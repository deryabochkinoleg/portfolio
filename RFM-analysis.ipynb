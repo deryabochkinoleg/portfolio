{
 "cells": [
  {
   "cell_type": "markdown",
   "id": "33278158",
   "metadata": {},
   "source": [
    "# 6. Построить RFM-кластеры для пользователей. Вывести для каждого кластера средние значения метрик R, F, M."
   ]
  },
  {
   "cell_type": "code",
   "execution_count": 1,
   "id": "114bb368",
   "metadata": {},
   "outputs": [],
   "source": [
    "import pandas as pd\n",
    "import numpy as np\n",
    "import seaborn as sns\n",
    "import matplotlib.pyplot as plt\n",
    "import datetime as dt\n",
    "%matplotlib inline"
   ]
  },
  {
   "cell_type": "code",
   "execution_count": 2,
   "id": "7002f338",
   "metadata": {},
   "outputs": [],
   "source": [
    "customers = pd.read_csv('/home/oleg/Downloads/karpov_courses-main/\\\n",
    "Промежуточный проект/datasets/olist_customers_dataset.csv')\n",
    "order_items = pd.read_csv('/home/oleg/Downloads/karpov_courses-main/\\\n",
    "Промежуточный проект/datasets/olist_order_items_dataset.csv')\n",
    "orders = pd.read_csv('/home/oleg/Downloads/karpov_courses-main/\\\n",
    "Промежуточный проект/datasets/olist_orders_dataset.csv')"
   ]
  },
  {
   "cell_type": "markdown",
   "id": "1566108f",
   "metadata": {},
   "source": [
    "## Подготовим данные"
   ]
  },
  {
   "cell_type": "markdown",
   "id": "1b0c8cf1",
   "metadata": {},
   "source": [
    "Для этого уберем все незавершенные заказы."
   ]
  },
  {
   "cell_type": "code",
   "execution_count": 3,
   "id": "aa92648e",
   "metadata": {},
   "outputs": [
    {
     "data": {
      "text/html": [
       "<div>\n",
       "<style scoped>\n",
       "    .dataframe tbody tr th:only-of-type {\n",
       "        vertical-align: middle;\n",
       "    }\n",
       "\n",
       "    .dataframe tbody tr th {\n",
       "        vertical-align: top;\n",
       "    }\n",
       "\n",
       "    .dataframe thead th {\n",
       "        text-align: right;\n",
       "    }\n",
       "</style>\n",
       "<table border=\"1\" class=\"dataframe\">\n",
       "  <thead>\n",
       "    <tr style=\"text-align: right;\">\n",
       "      <th></th>\n",
       "      <th>customer_unique_id</th>\n",
       "      <th>price</th>\n",
       "      <th>order_purchase_timestamp</th>\n",
       "      <th>order_id</th>\n",
       "      <th>order_status</th>\n",
       "    </tr>\n",
       "  </thead>\n",
       "  <tbody>\n",
       "    <tr>\n",
       "      <th>0</th>\n",
       "      <td>861eff4711a542e4b93843c6dd7febb0</td>\n",
       "      <td>124.99</td>\n",
       "      <td>2017-05-16 15:05:35</td>\n",
       "      <td>00e7ee1b050b8499577073aeb2a297a1</td>\n",
       "      <td>delivered</td>\n",
       "    </tr>\n",
       "    <tr>\n",
       "      <th>1</th>\n",
       "      <td>290c77bc529b7ac935b93aa66c333dc3</td>\n",
       "      <td>289.00</td>\n",
       "      <td>2018-01-12 20:48:24</td>\n",
       "      <td>29150127e6685892b6eab3eec79f59c7</td>\n",
       "      <td>delivered</td>\n",
       "    </tr>\n",
       "    <tr>\n",
       "      <th>2</th>\n",
       "      <td>060e732b5b29e8181a18229c7b0b2b5e</td>\n",
       "      <td>139.94</td>\n",
       "      <td>2018-05-19 16:07:45</td>\n",
       "      <td>b2059ed67ce144a36e2aa97d2c9e9ad2</td>\n",
       "      <td>delivered</td>\n",
       "    </tr>\n",
       "    <tr>\n",
       "      <th>3</th>\n",
       "      <td>259dac757896d24d7702b9acbbff3f3c</td>\n",
       "      <td>149.94</td>\n",
       "      <td>2018-03-13 16:06:38</td>\n",
       "      <td>951670f92359f4fe4a63112aa7306eba</td>\n",
       "      <td>delivered</td>\n",
       "    </tr>\n",
       "    <tr>\n",
       "      <th>4</th>\n",
       "      <td>345ecd01c38d18a9036ed96c73b8d066</td>\n",
       "      <td>230.00</td>\n",
       "      <td>2018-07-29 09:51:30</td>\n",
       "      <td>6b7d50bd145f6fc7f33cebabd7e49d0f</td>\n",
       "      <td>delivered</td>\n",
       "    </tr>\n",
       "  </tbody>\n",
       "</table>\n",
       "</div>"
      ],
      "text/plain": [
       "                 customer_unique_id   price order_purchase_timestamp  \\\n",
       "0  861eff4711a542e4b93843c6dd7febb0  124.99      2017-05-16 15:05:35   \n",
       "1  290c77bc529b7ac935b93aa66c333dc3  289.00      2018-01-12 20:48:24   \n",
       "2  060e732b5b29e8181a18229c7b0b2b5e  139.94      2018-05-19 16:07:45   \n",
       "3  259dac757896d24d7702b9acbbff3f3c  149.94      2018-03-13 16:06:38   \n",
       "4  345ecd01c38d18a9036ed96c73b8d066  230.00      2018-07-29 09:51:30   \n",
       "\n",
       "                           order_id order_status  \n",
       "0  00e7ee1b050b8499577073aeb2a297a1    delivered  \n",
       "1  29150127e6685892b6eab3eec79f59c7    delivered  \n",
       "2  b2059ed67ce144a36e2aa97d2c9e9ad2    delivered  \n",
       "3  951670f92359f4fe4a63112aa7306eba    delivered  \n",
       "4  6b7d50bd145f6fc7f33cebabd7e49d0f    delivered  "
      ]
     },
     "execution_count": 3,
     "metadata": {},
     "output_type": "execute_result"
    }
   ],
   "source": [
    "cust_orders = customers.merge(orders, on='customer_id')\n",
    "cust_orders = cust_orders.merge(order_items)[['customer_unique_id', 'price', 'order_purchase_timestamp', 'order_id', 'order_status']]\n",
    "cust_orders = cust_orders.query('order_status not in (\"canceled\", \\\n",
    "                                                      \"unavailable\", \\\n",
    "                                                      \"invoiced\", \\\n",
    "                                                      \"processing\", \\\n",
    "                                                      \"created\", \\\n",
    "                                                      \"approved\", \\\n",
    "                                                      \"shipped\")')\n",
    "cust_orders.head()"
   ]
  },
  {
   "cell_type": "code",
   "execution_count": 4,
   "id": "d4a29437",
   "metadata": {},
   "outputs": [
    {
     "data": {
      "text/html": [
       "<div>\n",
       "<style scoped>\n",
       "    .dataframe tbody tr th:only-of-type {\n",
       "        vertical-align: middle;\n",
       "    }\n",
       "\n",
       "    .dataframe tbody tr th {\n",
       "        vertical-align: top;\n",
       "    }\n",
       "\n",
       "    .dataframe thead th {\n",
       "        text-align: right;\n",
       "    }\n",
       "</style>\n",
       "<table border=\"1\" class=\"dataframe\">\n",
       "  <thead>\n",
       "    <tr style=\"text-align: right;\">\n",
       "      <th></th>\n",
       "      <th>customer_id</th>\n",
       "      <th>price</th>\n",
       "      <th>order_date</th>\n",
       "      <th>order_id</th>\n",
       "      <th>order_status</th>\n",
       "    </tr>\n",
       "  </thead>\n",
       "  <tbody>\n",
       "    <tr>\n",
       "      <th>0</th>\n",
       "      <td>861eff4711a542e4b93843c6dd7febb0</td>\n",
       "      <td>124.99</td>\n",
       "      <td>2017-05-16 15:05:35</td>\n",
       "      <td>00e7ee1b050b8499577073aeb2a297a1</td>\n",
       "      <td>delivered</td>\n",
       "    </tr>\n",
       "    <tr>\n",
       "      <th>1</th>\n",
       "      <td>290c77bc529b7ac935b93aa66c333dc3</td>\n",
       "      <td>289.00</td>\n",
       "      <td>2018-01-12 20:48:24</td>\n",
       "      <td>29150127e6685892b6eab3eec79f59c7</td>\n",
       "      <td>delivered</td>\n",
       "    </tr>\n",
       "    <tr>\n",
       "      <th>2</th>\n",
       "      <td>060e732b5b29e8181a18229c7b0b2b5e</td>\n",
       "      <td>139.94</td>\n",
       "      <td>2018-05-19 16:07:45</td>\n",
       "      <td>b2059ed67ce144a36e2aa97d2c9e9ad2</td>\n",
       "      <td>delivered</td>\n",
       "    </tr>\n",
       "    <tr>\n",
       "      <th>3</th>\n",
       "      <td>259dac757896d24d7702b9acbbff3f3c</td>\n",
       "      <td>149.94</td>\n",
       "      <td>2018-03-13 16:06:38</td>\n",
       "      <td>951670f92359f4fe4a63112aa7306eba</td>\n",
       "      <td>delivered</td>\n",
       "    </tr>\n",
       "    <tr>\n",
       "      <th>4</th>\n",
       "      <td>345ecd01c38d18a9036ed96c73b8d066</td>\n",
       "      <td>230.00</td>\n",
       "      <td>2018-07-29 09:51:30</td>\n",
       "      <td>6b7d50bd145f6fc7f33cebabd7e49d0f</td>\n",
       "      <td>delivered</td>\n",
       "    </tr>\n",
       "  </tbody>\n",
       "</table>\n",
       "</div>"
      ],
      "text/plain": [
       "                        customer_id   price           order_date  \\\n",
       "0  861eff4711a542e4b93843c6dd7febb0  124.99  2017-05-16 15:05:35   \n",
       "1  290c77bc529b7ac935b93aa66c333dc3  289.00  2018-01-12 20:48:24   \n",
       "2  060e732b5b29e8181a18229c7b0b2b5e  139.94  2018-05-19 16:07:45   \n",
       "3  259dac757896d24d7702b9acbbff3f3c  149.94  2018-03-13 16:06:38   \n",
       "4  345ecd01c38d18a9036ed96c73b8d066  230.00  2018-07-29 09:51:30   \n",
       "\n",
       "                           order_id order_status  \n",
       "0  00e7ee1b050b8499577073aeb2a297a1    delivered  \n",
       "1  29150127e6685892b6eab3eec79f59c7    delivered  \n",
       "2  b2059ed67ce144a36e2aa97d2c9e9ad2    delivered  \n",
       "3  951670f92359f4fe4a63112aa7306eba    delivered  \n",
       "4  6b7d50bd145f6fc7f33cebabd7e49d0f    delivered  "
      ]
     },
     "execution_count": 4,
     "metadata": {},
     "output_type": "execute_result"
    }
   ],
   "source": [
    "cust_orders = cust_orders.rename(columns={'customer_unique_id' : 'customer_id', \n",
    "                                         'order_purchase_timestamp' : 'order_date'})\n",
    "cust_orders.head()"
   ]
  },
  {
   "cell_type": "code",
   "execution_count": 5,
   "id": "38dffc97",
   "metadata": {},
   "outputs": [
    {
     "data": {
      "text/plain": [
       "110197"
      ]
     },
     "execution_count": 5,
     "metadata": {},
     "output_type": "execute_result"
    }
   ],
   "source": [
    "cust_orders.shape[0]"
   ]
  },
  {
   "cell_type": "code",
   "execution_count": 6,
   "id": "37b11a90",
   "metadata": {},
   "outputs": [],
   "source": [
    "cust_orders['order_date'] = pd.to_datetime(cust_orders['order_date'])"
   ]
  },
  {
   "cell_type": "markdown",
   "id": "ade264b1",
   "metadata": {},
   "source": [
    "\n",
    "В качестве даты, относительно которой пойдет отсчет, будем считать дату последней покупки + 1 день.\n"
   ]
  },
  {
   "cell_type": "code",
   "execution_count": 7,
   "id": "cb2273b8",
   "metadata": {},
   "outputs": [
    {
     "data": {
      "text/plain": [
       "Timestamp('2018-08-30 15:00:37')"
      ]
     },
     "execution_count": 7,
     "metadata": {},
     "output_type": "execute_result"
    }
   ],
   "source": [
    "now_date = cust_orders.order_date.max() + dt.timedelta(days=1)\n",
    "now_date"
   ]
  },
  {
   "cell_type": "markdown",
   "id": "8661736a",
   "metadata": {},
   "source": [
    "## Посчитаем все необходимые метрики"
   ]
  },
  {
   "cell_type": "markdown",
   "id": "044cf3ba",
   "metadata": {},
   "source": [
    "\n",
    "\n",
    "Recency - дельта, которая показывает, когда была совершена последняя покупка. \n",
    "\n",
    "Frequency - считаем число заказов на одного пользователя.\n",
    "\n",
    "Monetary - считаем суммарную сумму, потраченную пользователем.\n"
   ]
  },
  {
   "cell_type": "code",
   "execution_count": 8,
   "id": "9b447d6e",
   "metadata": {},
   "outputs": [
    {
     "data": {
      "text/html": [
       "<div>\n",
       "<style scoped>\n",
       "    .dataframe tbody tr th:only-of-type {\n",
       "        vertical-align: middle;\n",
       "    }\n",
       "\n",
       "    .dataframe tbody tr th {\n",
       "        vertical-align: top;\n",
       "    }\n",
       "\n",
       "    .dataframe thead th {\n",
       "        text-align: right;\n",
       "    }\n",
       "</style>\n",
       "<table border=\"1\" class=\"dataframe\">\n",
       "  <thead>\n",
       "    <tr style=\"text-align: right;\">\n",
       "      <th></th>\n",
       "      <th>customer_id</th>\n",
       "      <th>recency</th>\n",
       "    </tr>\n",
       "  </thead>\n",
       "  <tbody>\n",
       "    <tr>\n",
       "      <th>0</th>\n",
       "      <td>0000366f3b9a7992bf8c76cfdf3221e2</td>\n",
       "      <td>112</td>\n",
       "    </tr>\n",
       "    <tr>\n",
       "      <th>1</th>\n",
       "      <td>0000b849f77a49e4a4ce2b2a4ca5be3f</td>\n",
       "      <td>115</td>\n",
       "    </tr>\n",
       "    <tr>\n",
       "      <th>2</th>\n",
       "      <td>0000f46a3911fa3c0805444483337064</td>\n",
       "      <td>537</td>\n",
       "    </tr>\n",
       "    <tr>\n",
       "      <th>3</th>\n",
       "      <td>0000f6ccb0745a6a4b88665a16c9f078</td>\n",
       "      <td>321</td>\n",
       "    </tr>\n",
       "    <tr>\n",
       "      <th>4</th>\n",
       "      <td>0004aac84e0df4da2b147fca70cf8255</td>\n",
       "      <td>288</td>\n",
       "    </tr>\n",
       "  </tbody>\n",
       "</table>\n",
       "</div>"
      ],
      "text/plain": [
       "                        customer_id  recency\n",
       "0  0000366f3b9a7992bf8c76cfdf3221e2      112\n",
       "1  0000b849f77a49e4a4ce2b2a4ca5be3f      115\n",
       "2  0000f46a3911fa3c0805444483337064      537\n",
       "3  0000f6ccb0745a6a4b88665a16c9f078      321\n",
       "4  0004aac84e0df4da2b147fca70cf8255      288"
      ]
     },
     "execution_count": 8,
     "metadata": {},
     "output_type": "execute_result"
    }
   ],
   "source": [
    "recency = cust_orders\\\n",
    "    .groupby('customer_id', as_index=False)\\\n",
    "    .agg({'order_date' : lambda x : (now_date - x.max()).days})\\\n",
    "    .rename(columns={'order_date' : 'recency'})\n",
    "recency.head()"
   ]
  },
  {
   "cell_type": "code",
   "execution_count": 9,
   "id": "24124d6c",
   "metadata": {},
   "outputs": [
    {
     "data": {
      "text/html": [
       "<div>\n",
       "<style scoped>\n",
       "    .dataframe tbody tr th:only-of-type {\n",
       "        vertical-align: middle;\n",
       "    }\n",
       "\n",
       "    .dataframe tbody tr th {\n",
       "        vertical-align: top;\n",
       "    }\n",
       "\n",
       "    .dataframe thead th {\n",
       "        text-align: right;\n",
       "    }\n",
       "</style>\n",
       "<table border=\"1\" class=\"dataframe\">\n",
       "  <thead>\n",
       "    <tr style=\"text-align: right;\">\n",
       "      <th></th>\n",
       "      <th>customer_id</th>\n",
       "      <th>frequency</th>\n",
       "    </tr>\n",
       "  </thead>\n",
       "  <tbody>\n",
       "    <tr>\n",
       "      <th>0</th>\n",
       "      <td>0000366f3b9a7992bf8c76cfdf3221e2</td>\n",
       "      <td>1</td>\n",
       "    </tr>\n",
       "    <tr>\n",
       "      <th>1</th>\n",
       "      <td>0000b849f77a49e4a4ce2b2a4ca5be3f</td>\n",
       "      <td>1</td>\n",
       "    </tr>\n",
       "    <tr>\n",
       "      <th>2</th>\n",
       "      <td>0000f46a3911fa3c0805444483337064</td>\n",
       "      <td>1</td>\n",
       "    </tr>\n",
       "    <tr>\n",
       "      <th>3</th>\n",
       "      <td>0000f6ccb0745a6a4b88665a16c9f078</td>\n",
       "      <td>1</td>\n",
       "    </tr>\n",
       "    <tr>\n",
       "      <th>4</th>\n",
       "      <td>0004aac84e0df4da2b147fca70cf8255</td>\n",
       "      <td>1</td>\n",
       "    </tr>\n",
       "  </tbody>\n",
       "</table>\n",
       "</div>"
      ],
      "text/plain": [
       "                        customer_id  frequency\n",
       "0  0000366f3b9a7992bf8c76cfdf3221e2          1\n",
       "1  0000b849f77a49e4a4ce2b2a4ca5be3f          1\n",
       "2  0000f46a3911fa3c0805444483337064          1\n",
       "3  0000f6ccb0745a6a4b88665a16c9f078          1\n",
       "4  0004aac84e0df4da2b147fca70cf8255          1"
      ]
     },
     "execution_count": 9,
     "metadata": {},
     "output_type": "execute_result"
    }
   ],
   "source": [
    "frequency = cust_orders\\\n",
    "    .groupby('customer_id', as_index=False)\\\n",
    "    .agg({'order_id' : 'count'})\\\n",
    "    .rename(columns={'order_id' : 'frequency'})\n",
    "frequency.head()"
   ]
  },
  {
   "cell_type": "code",
   "execution_count": 10,
   "id": "80f1ac63",
   "metadata": {},
   "outputs": [
    {
     "data": {
      "text/html": [
       "<div>\n",
       "<style scoped>\n",
       "    .dataframe tbody tr th:only-of-type {\n",
       "        vertical-align: middle;\n",
       "    }\n",
       "\n",
       "    .dataframe tbody tr th {\n",
       "        vertical-align: top;\n",
       "    }\n",
       "\n",
       "    .dataframe thead th {\n",
       "        text-align: right;\n",
       "    }\n",
       "</style>\n",
       "<table border=\"1\" class=\"dataframe\">\n",
       "  <thead>\n",
       "    <tr style=\"text-align: right;\">\n",
       "      <th></th>\n",
       "      <th>customer_id</th>\n",
       "      <th>monetary</th>\n",
       "    </tr>\n",
       "  </thead>\n",
       "  <tbody>\n",
       "    <tr>\n",
       "      <th>0</th>\n",
       "      <td>0000366f3b9a7992bf8c76cfdf3221e2</td>\n",
       "      <td>129.90</td>\n",
       "    </tr>\n",
       "    <tr>\n",
       "      <th>1</th>\n",
       "      <td>0000b849f77a49e4a4ce2b2a4ca5be3f</td>\n",
       "      <td>18.90</td>\n",
       "    </tr>\n",
       "    <tr>\n",
       "      <th>2</th>\n",
       "      <td>0000f46a3911fa3c0805444483337064</td>\n",
       "      <td>69.00</td>\n",
       "    </tr>\n",
       "    <tr>\n",
       "      <th>3</th>\n",
       "      <td>0000f6ccb0745a6a4b88665a16c9f078</td>\n",
       "      <td>25.99</td>\n",
       "    </tr>\n",
       "    <tr>\n",
       "      <th>4</th>\n",
       "      <td>0004aac84e0df4da2b147fca70cf8255</td>\n",
       "      <td>180.00</td>\n",
       "    </tr>\n",
       "  </tbody>\n",
       "</table>\n",
       "</div>"
      ],
      "text/plain": [
       "                        customer_id  monetary\n",
       "0  0000366f3b9a7992bf8c76cfdf3221e2    129.90\n",
       "1  0000b849f77a49e4a4ce2b2a4ca5be3f     18.90\n",
       "2  0000f46a3911fa3c0805444483337064     69.00\n",
       "3  0000f6ccb0745a6a4b88665a16c9f078     25.99\n",
       "4  0004aac84e0df4da2b147fca70cf8255    180.00"
      ]
     },
     "execution_count": 10,
     "metadata": {},
     "output_type": "execute_result"
    }
   ],
   "source": [
    "monetary = cust_orders\\\n",
    "    .groupby('customer_id', as_index=False)\\\n",
    "    .agg({'price' : 'sum'})\\\n",
    "    .rename(columns={'price' : 'monetary'})\n",
    "monetary.head()"
   ]
  },
  {
   "cell_type": "markdown",
   "id": "fb59e907",
   "metadata": {},
   "source": [
    "Объединим все в один датафрейм для RFM-анализа."
   ]
  },
  {
   "cell_type": "code",
   "execution_count": 11,
   "id": "e9ad8134",
   "metadata": {},
   "outputs": [
    {
     "data": {
      "text/html": [
       "<div>\n",
       "<style scoped>\n",
       "    .dataframe tbody tr th:only-of-type {\n",
       "        vertical-align: middle;\n",
       "    }\n",
       "\n",
       "    .dataframe tbody tr th {\n",
       "        vertical-align: top;\n",
       "    }\n",
       "\n",
       "    .dataframe thead th {\n",
       "        text-align: right;\n",
       "    }\n",
       "</style>\n",
       "<table border=\"1\" class=\"dataframe\">\n",
       "  <thead>\n",
       "    <tr style=\"text-align: right;\">\n",
       "      <th></th>\n",
       "      <th>customer_id</th>\n",
       "      <th>recency</th>\n",
       "      <th>frequency</th>\n",
       "      <th>monetary</th>\n",
       "    </tr>\n",
       "  </thead>\n",
       "  <tbody>\n",
       "    <tr>\n",
       "      <th>0</th>\n",
       "      <td>0000366f3b9a7992bf8c76cfdf3221e2</td>\n",
       "      <td>112</td>\n",
       "      <td>1</td>\n",
       "      <td>129.90</td>\n",
       "    </tr>\n",
       "    <tr>\n",
       "      <th>1</th>\n",
       "      <td>0000b849f77a49e4a4ce2b2a4ca5be3f</td>\n",
       "      <td>115</td>\n",
       "      <td>1</td>\n",
       "      <td>18.90</td>\n",
       "    </tr>\n",
       "    <tr>\n",
       "      <th>2</th>\n",
       "      <td>0000f46a3911fa3c0805444483337064</td>\n",
       "      <td>537</td>\n",
       "      <td>1</td>\n",
       "      <td>69.00</td>\n",
       "    </tr>\n",
       "    <tr>\n",
       "      <th>3</th>\n",
       "      <td>0000f6ccb0745a6a4b88665a16c9f078</td>\n",
       "      <td>321</td>\n",
       "      <td>1</td>\n",
       "      <td>25.99</td>\n",
       "    </tr>\n",
       "    <tr>\n",
       "      <th>4</th>\n",
       "      <td>0004aac84e0df4da2b147fca70cf8255</td>\n",
       "      <td>288</td>\n",
       "      <td>1</td>\n",
       "      <td>180.00</td>\n",
       "    </tr>\n",
       "  </tbody>\n",
       "</table>\n",
       "</div>"
      ],
      "text/plain": [
       "                        customer_id  recency  frequency  monetary\n",
       "0  0000366f3b9a7992bf8c76cfdf3221e2      112          1    129.90\n",
       "1  0000b849f77a49e4a4ce2b2a4ca5be3f      115          1     18.90\n",
       "2  0000f46a3911fa3c0805444483337064      537          1     69.00\n",
       "3  0000f6ccb0745a6a4b88665a16c9f078      321          1     25.99\n",
       "4  0004aac84e0df4da2b147fca70cf8255      288          1    180.00"
      ]
     },
     "execution_count": 11,
     "metadata": {},
     "output_type": "execute_result"
    }
   ],
   "source": [
    "rfm = recency.merge(frequency, on='customer_id').merge(monetary, on='customer_id')\n",
    "rfm.head()"
   ]
  },
  {
   "cell_type": "markdown",
   "id": "aa089adb",
   "metadata": {},
   "source": [
    "Визуализируем и изучим отдельно каждую метрику."
   ]
  },
  {
   "cell_type": "markdown",
   "id": "52424048",
   "metadata": {},
   "source": [
    "## Recency"
   ]
  },
  {
   "cell_type": "code",
   "execution_count": 33,
   "id": "7866e06f",
   "metadata": {},
   "outputs": [
    {
     "data": {
      "image/png": "[encoded data removed]",
      "text/plain": [
       "<Figure size 1400x600 with 1 Axes>"
      ]
     },
     "metadata": {},
     "output_type": "display_data"
    }
   ],
   "source": [
    "fig, ax = plt.subplots(figsize=(14,6))\n",
    "sns.set_theme()\n",
    "sns.histplot(data=rfm.recency)\n",
    "ax.set_title('Recency')\n",
    "sns.despine()"
   ]
  },
  {
   "cell_type": "code",
   "execution_count": 14,
   "id": "d40244e6",
   "metadata": {},
   "outputs": [
    {
     "name": "stdout",
     "output_type": "stream",
     "text": [
      "147.0\n",
      "286.0\n"
     ]
    }
   ],
   "source": [
    "print(rfm.recency.quantile(q=.33))\n",
    "print(rfm.recency.quantile(q=.66))"
   ]
  },
  {
   "cell_type": "markdown",
   "id": "303e4b82",
   "metadata": {},
   "source": [
    "Разобъем Recency на три периода. Последний будет лежать за отметкой в 286 дня, как показал нам квантиль=0.66, граница первого закончится на границе квантиля в 0.33."
   ]
  },
  {
   "cell_type": "code",
   "execution_count": 15,
   "id": "c7f4be74",
   "metadata": {},
   "outputs": [],
   "source": [
    "def R(recency):\n",
    "    if recency <= 147:\n",
    "        return 3\n",
    "    elif 147 < recency <= 286:\n",
    "        return 2\n",
    "    else:\n",
    "        return 1"
   ]
  },
  {
   "cell_type": "code",
   "execution_count": 16,
   "id": "bbe8a701",
   "metadata": {},
   "outputs": [
    {
     "data": {
      "text/html": [
       "<div>\n",
       "<style scoped>\n",
       "    .dataframe tbody tr th:only-of-type {\n",
       "        vertical-align: middle;\n",
       "    }\n",
       "\n",
       "    .dataframe tbody tr th {\n",
       "        vertical-align: top;\n",
       "    }\n",
       "\n",
       "    .dataframe thead th {\n",
       "        text-align: right;\n",
       "    }\n",
       "</style>\n",
       "<table border=\"1\" class=\"dataframe\">\n",
       "  <thead>\n",
       "    <tr style=\"text-align: right;\">\n",
       "      <th></th>\n",
       "      <th>customer_id</th>\n",
       "      <th>recency</th>\n",
       "      <th>frequency</th>\n",
       "      <th>monetary</th>\n",
       "      <th>r</th>\n",
       "    </tr>\n",
       "  </thead>\n",
       "  <tbody>\n",
       "    <tr>\n",
       "      <th>0</th>\n",
       "      <td>0000366f3b9a7992bf8c76cfdf3221e2</td>\n",
       "      <td>112</td>\n",
       "      <td>1</td>\n",
       "      <td>129.90</td>\n",
       "      <td>3</td>\n",
       "    </tr>\n",
       "    <tr>\n",
       "      <th>1</th>\n",
       "      <td>0000b849f77a49e4a4ce2b2a4ca5be3f</td>\n",
       "      <td>115</td>\n",
       "      <td>1</td>\n",
       "      <td>18.90</td>\n",
       "      <td>3</td>\n",
       "    </tr>\n",
       "    <tr>\n",
       "      <th>2</th>\n",
       "      <td>0000f46a3911fa3c0805444483337064</td>\n",
       "      <td>537</td>\n",
       "      <td>1</td>\n",
       "      <td>69.00</td>\n",
       "      <td>1</td>\n",
       "    </tr>\n",
       "    <tr>\n",
       "      <th>3</th>\n",
       "      <td>0000f6ccb0745a6a4b88665a16c9f078</td>\n",
       "      <td>321</td>\n",
       "      <td>1</td>\n",
       "      <td>25.99</td>\n",
       "      <td>1</td>\n",
       "    </tr>\n",
       "    <tr>\n",
       "      <th>4</th>\n",
       "      <td>0004aac84e0df4da2b147fca70cf8255</td>\n",
       "      <td>288</td>\n",
       "      <td>1</td>\n",
       "      <td>180.00</td>\n",
       "      <td>1</td>\n",
       "    </tr>\n",
       "  </tbody>\n",
       "</table>\n",
       "</div>"
      ],
      "text/plain": [
       "                        customer_id  recency  frequency  monetary  r\n",
       "0  0000366f3b9a7992bf8c76cfdf3221e2      112          1    129.90  3\n",
       "1  0000b849f77a49e4a4ce2b2a4ca5be3f      115          1     18.90  3\n",
       "2  0000f46a3911fa3c0805444483337064      537          1     69.00  1\n",
       "3  0000f6ccb0745a6a4b88665a16c9f078      321          1     25.99  1\n",
       "4  0004aac84e0df4da2b147fca70cf8255      288          1    180.00  1"
      ]
     },
     "execution_count": 16,
     "metadata": {},
     "output_type": "execute_result"
    }
   ],
   "source": [
    "rfm['r'] = rfm.recency.apply(R)\n",
    "rfm.head()"
   ]
  },
  {
   "cell_type": "markdown",
   "id": "fbe91bbd",
   "metadata": {},
   "source": [
    "# Frequency"
   ]
  },
  {
   "cell_type": "code",
   "execution_count": 17,
   "id": "8a2402f3",
   "metadata": {},
   "outputs": [
    {
     "name": "stdout",
     "output_type": "stream",
     "text": [
      "87.56400094260802\n"
     ]
    }
   ],
   "source": [
    "print(rfm.frequency.value_counts().to_list()[0] / sum(rfm.frequency.value_counts().to_list()[:]) * 100)"
   ]
  },
  {
   "cell_type": "markdown",
   "id": "b2a9d68a",
   "metadata": {},
   "source": [
    "Почти 88% покупателей совершили только одну покупку.\n",
    "\n",
    "Разобьем Frequency также на 3 группы:\n",
    "- 1 - 1 покупка; \n",
    "- 2 - 2 покупки; \n",
    "- 3 - 3 покупки и более"
   ]
  },
  {
   "cell_type": "code",
   "execution_count": 18,
   "id": "43887494",
   "metadata": {},
   "outputs": [],
   "source": [
    "def F(frequency):\n",
    "    if frequency == 1:\n",
    "        return 1\n",
    "    elif frequency == 2:\n",
    "        return 2\n",
    "    else:\n",
    "        return 3"
   ]
  },
  {
   "cell_type": "code",
   "execution_count": 19,
   "id": "95512bef",
   "metadata": {},
   "outputs": [
    {
     "data": {
      "text/html": [
       "<div>\n",
       "<style scoped>\n",
       "    .dataframe tbody tr th:only-of-type {\n",
       "        vertical-align: middle;\n",
       "    }\n",
       "\n",
       "    .dataframe tbody tr th {\n",
       "        vertical-align: top;\n",
       "    }\n",
       "\n",
       "    .dataframe thead th {\n",
       "        text-align: right;\n",
       "    }\n",
       "</style>\n",
       "<table border=\"1\" class=\"dataframe\">\n",
       "  <thead>\n",
       "    <tr style=\"text-align: right;\">\n",
       "      <th></th>\n",
       "      <th>customer_id</th>\n",
       "      <th>recency</th>\n",
       "      <th>frequency</th>\n",
       "      <th>monetary</th>\n",
       "      <th>r</th>\n",
       "      <th>f</th>\n",
       "    </tr>\n",
       "  </thead>\n",
       "  <tbody>\n",
       "    <tr>\n",
       "      <th>0</th>\n",
       "      <td>0000366f3b9a7992bf8c76cfdf3221e2</td>\n",
       "      <td>112</td>\n",
       "      <td>1</td>\n",
       "      <td>129.90</td>\n",
       "      <td>3</td>\n",
       "      <td>1</td>\n",
       "    </tr>\n",
       "    <tr>\n",
       "      <th>1</th>\n",
       "      <td>0000b849f77a49e4a4ce2b2a4ca5be3f</td>\n",
       "      <td>115</td>\n",
       "      <td>1</td>\n",
       "      <td>18.90</td>\n",
       "      <td>3</td>\n",
       "      <td>1</td>\n",
       "    </tr>\n",
       "    <tr>\n",
       "      <th>2</th>\n",
       "      <td>0000f46a3911fa3c0805444483337064</td>\n",
       "      <td>537</td>\n",
       "      <td>1</td>\n",
       "      <td>69.00</td>\n",
       "      <td>1</td>\n",
       "      <td>1</td>\n",
       "    </tr>\n",
       "    <tr>\n",
       "      <th>3</th>\n",
       "      <td>0000f6ccb0745a6a4b88665a16c9f078</td>\n",
       "      <td>321</td>\n",
       "      <td>1</td>\n",
       "      <td>25.99</td>\n",
       "      <td>1</td>\n",
       "      <td>1</td>\n",
       "    </tr>\n",
       "    <tr>\n",
       "      <th>4</th>\n",
       "      <td>0004aac84e0df4da2b147fca70cf8255</td>\n",
       "      <td>288</td>\n",
       "      <td>1</td>\n",
       "      <td>180.00</td>\n",
       "      <td>1</td>\n",
       "      <td>1</td>\n",
       "    </tr>\n",
       "  </tbody>\n",
       "</table>\n",
       "</div>"
      ],
      "text/plain": [
       "                        customer_id  recency  frequency  monetary  r  f\n",
       "0  0000366f3b9a7992bf8c76cfdf3221e2      112          1    129.90  3  1\n",
       "1  0000b849f77a49e4a4ce2b2a4ca5be3f      115          1     18.90  3  1\n",
       "2  0000f46a3911fa3c0805444483337064      537          1     69.00  1  1\n",
       "3  0000f6ccb0745a6a4b88665a16c9f078      321          1     25.99  1  1\n",
       "4  0004aac84e0df4da2b147fca70cf8255      288          1    180.00  1  1"
      ]
     },
     "execution_count": 19,
     "metadata": {},
     "output_type": "execute_result"
    }
   ],
   "source": [
    "rfm['f'] = rfm.frequency.apply(F)\n",
    "rfm.head()"
   ]
  },
  {
   "cell_type": "markdown",
   "id": "27e942d9",
   "metadata": {},
   "source": [
    "# Monetary"
   ]
  },
  {
   "cell_type": "code",
   "execution_count": 20,
   "id": "bbfdd7cd",
   "metadata": {},
   "outputs": [
    {
     "data": {
      "image/png": "[encoded data removed]",
      "text/plain": [
       "<Figure size 1400x600 with 1 Axes>"
      ]
     },
     "metadata": {},
     "output_type": "display_data"
    }
   ],
   "source": [
    "fig, ax = plt.subplots(figsize=(14,6))\n",
    "sns.histplot(rfm.monetary)\n",
    "ax.set_title('Monetary')\n",
    "#ax.set_xlim(0,1500)\n",
    "sns.despine()"
   ]
  },
  {
   "cell_type": "code",
   "execution_count": 21,
   "id": "e3b210c1",
   "metadata": {},
   "outputs": [
    {
     "data": {
      "text/plain": [
       "count    93358.000000\n",
       "mean       141.621480\n",
       "std        215.694014\n",
       "min          0.850000\n",
       "25%         47.650000\n",
       "50%         89.730000\n",
       "75%        154.737500\n",
       "max      13440.000000\n",
       "Name: monetary, dtype: float64"
      ]
     },
     "execution_count": 21,
     "metadata": {},
     "output_type": "execute_result"
    }
   ],
   "source": [
    "rfm.monetary.describe()"
   ]
  },
  {
   "cell_type": "markdown",
   "id": "c4f3f84b",
   "metadata": {},
   "source": [
    "Также разобьем Monetary на 3 группы:\n",
    "- 1 - тратят до 100 у.е; \n",
    "- 2 - тратят от 100 до 1000 у.е; \n",
    "- 3 - тратят 1000 у.е. и более "
   ]
  },
  {
   "cell_type": "code",
   "execution_count": 22,
   "id": "8e26d3b7",
   "metadata": {},
   "outputs": [],
   "source": [
    "def M(monetary):\n",
    "    if monetary < 100:\n",
    "        return 1\n",
    "    elif 100 <= monetary < 1000:\n",
    "        return 2\n",
    "    else: \n",
    "        return 3"
   ]
  },
  {
   "cell_type": "code",
   "execution_count": 23,
   "id": "2d14a25d",
   "metadata": {},
   "outputs": [
    {
     "data": {
      "text/html": [
       "<div>\n",
       "<style scoped>\n",
       "    .dataframe tbody tr th:only-of-type {\n",
       "        vertical-align: middle;\n",
       "    }\n",
       "\n",
       "    .dataframe tbody tr th {\n",
       "        vertical-align: top;\n",
       "    }\n",
       "\n",
       "    .dataframe thead th {\n",
       "        text-align: right;\n",
       "    }\n",
       "</style>\n",
       "<table border=\"1\" class=\"dataframe\">\n",
       "  <thead>\n",
       "    <tr style=\"text-align: right;\">\n",
       "      <th></th>\n",
       "      <th>customer_id</th>\n",
       "      <th>recency</th>\n",
       "      <th>frequency</th>\n",
       "      <th>monetary</th>\n",
       "      <th>r</th>\n",
       "      <th>f</th>\n",
       "      <th>m</th>\n",
       "    </tr>\n",
       "  </thead>\n",
       "  <tbody>\n",
       "    <tr>\n",
       "      <th>0</th>\n",
       "      <td>0000366f3b9a7992bf8c76cfdf3221e2</td>\n",
       "      <td>112</td>\n",
       "      <td>1</td>\n",
       "      <td>129.90</td>\n",
       "      <td>3</td>\n",
       "      <td>1</td>\n",
       "      <td>2</td>\n",
       "    </tr>\n",
       "    <tr>\n",
       "      <th>1</th>\n",
       "      <td>0000b849f77a49e4a4ce2b2a4ca5be3f</td>\n",
       "      <td>115</td>\n",
       "      <td>1</td>\n",
       "      <td>18.90</td>\n",
       "      <td>3</td>\n",
       "      <td>1</td>\n",
       "      <td>1</td>\n",
       "    </tr>\n",
       "    <tr>\n",
       "      <th>2</th>\n",
       "      <td>0000f46a3911fa3c0805444483337064</td>\n",
       "      <td>537</td>\n",
       "      <td>1</td>\n",
       "      <td>69.00</td>\n",
       "      <td>1</td>\n",
       "      <td>1</td>\n",
       "      <td>1</td>\n",
       "    </tr>\n",
       "    <tr>\n",
       "      <th>3</th>\n",
       "      <td>0000f6ccb0745a6a4b88665a16c9f078</td>\n",
       "      <td>321</td>\n",
       "      <td>1</td>\n",
       "      <td>25.99</td>\n",
       "      <td>1</td>\n",
       "      <td>1</td>\n",
       "      <td>1</td>\n",
       "    </tr>\n",
       "    <tr>\n",
       "      <th>4</th>\n",
       "      <td>0004aac84e0df4da2b147fca70cf8255</td>\n",
       "      <td>288</td>\n",
       "      <td>1</td>\n",
       "      <td>180.00</td>\n",
       "      <td>1</td>\n",
       "      <td>1</td>\n",
       "      <td>2</td>\n",
       "    </tr>\n",
       "  </tbody>\n",
       "</table>\n",
       "</div>"
      ],
      "text/plain": [
       "                        customer_id  recency  frequency  monetary  r  f  m\n",
       "0  0000366f3b9a7992bf8c76cfdf3221e2      112          1    129.90  3  1  2\n",
       "1  0000b849f77a49e4a4ce2b2a4ca5be3f      115          1     18.90  3  1  1\n",
       "2  0000f46a3911fa3c0805444483337064      537          1     69.00  1  1  1\n",
       "3  0000f6ccb0745a6a4b88665a16c9f078      321          1     25.99  1  1  1\n",
       "4  0004aac84e0df4da2b147fca70cf8255      288          1    180.00  1  1  2"
      ]
     },
     "execution_count": 23,
     "metadata": {},
     "output_type": "execute_result"
    }
   ],
   "source": [
    "rfm['m'] = rfm.monetary.apply(M)\n",
    "rfm.head()"
   ]
  },
  {
   "cell_type": "markdown",
   "id": "ba7714b2",
   "metadata": {},
   "source": [
    "## Получим результирующую таблицу с разбивкой на кластеры RFM и сделаем визуализацию"
   ]
  },
  {
   "cell_type": "code",
   "execution_count": 24,
   "id": "ea14a5ff",
   "metadata": {},
   "outputs": [
    {
     "data": {
      "text/html": [
       "<div>\n",
       "<style scoped>\n",
       "    .dataframe tbody tr th:only-of-type {\n",
       "        vertical-align: middle;\n",
       "    }\n",
       "\n",
       "    .dataframe tbody tr th {\n",
       "        vertical-align: top;\n",
       "    }\n",
       "\n",
       "    .dataframe thead th {\n",
       "        text-align: right;\n",
       "    }\n",
       "</style>\n",
       "<table border=\"1\" class=\"dataframe\">\n",
       "  <thead>\n",
       "    <tr style=\"text-align: right;\">\n",
       "      <th></th>\n",
       "      <th>customer_id</th>\n",
       "      <th>recency</th>\n",
       "      <th>frequency</th>\n",
       "      <th>monetary</th>\n",
       "      <th>r</th>\n",
       "      <th>f</th>\n",
       "      <th>m</th>\n",
       "      <th>RFM</th>\n",
       "    </tr>\n",
       "  </thead>\n",
       "  <tbody>\n",
       "    <tr>\n",
       "      <th>0</th>\n",
       "      <td>0000366f3b9a7992bf8c76cfdf3221e2</td>\n",
       "      <td>112</td>\n",
       "      <td>1</td>\n",
       "      <td>129.90</td>\n",
       "      <td>3</td>\n",
       "      <td>1</td>\n",
       "      <td>2</td>\n",
       "      <td>312</td>\n",
       "    </tr>\n",
       "    <tr>\n",
       "      <th>1</th>\n",
       "      <td>0000b849f77a49e4a4ce2b2a4ca5be3f</td>\n",
       "      <td>115</td>\n",
       "      <td>1</td>\n",
       "      <td>18.90</td>\n",
       "      <td>3</td>\n",
       "      <td>1</td>\n",
       "      <td>1</td>\n",
       "      <td>311</td>\n",
       "    </tr>\n",
       "    <tr>\n",
       "      <th>2</th>\n",
       "      <td>0000f46a3911fa3c0805444483337064</td>\n",
       "      <td>537</td>\n",
       "      <td>1</td>\n",
       "      <td>69.00</td>\n",
       "      <td>1</td>\n",
       "      <td>1</td>\n",
       "      <td>1</td>\n",
       "      <td>111</td>\n",
       "    </tr>\n",
       "    <tr>\n",
       "      <th>3</th>\n",
       "      <td>0000f6ccb0745a6a4b88665a16c9f078</td>\n",
       "      <td>321</td>\n",
       "      <td>1</td>\n",
       "      <td>25.99</td>\n",
       "      <td>1</td>\n",
       "      <td>1</td>\n",
       "      <td>1</td>\n",
       "      <td>111</td>\n",
       "    </tr>\n",
       "    <tr>\n",
       "      <th>4</th>\n",
       "      <td>0004aac84e0df4da2b147fca70cf8255</td>\n",
       "      <td>288</td>\n",
       "      <td>1</td>\n",
       "      <td>180.00</td>\n",
       "      <td>1</td>\n",
       "      <td>1</td>\n",
       "      <td>2</td>\n",
       "      <td>112</td>\n",
       "    </tr>\n",
       "  </tbody>\n",
       "</table>\n",
       "</div>"
      ],
      "text/plain": [
       "                        customer_id  recency  frequency  monetary  r  f  m  \\\n",
       "0  0000366f3b9a7992bf8c76cfdf3221e2      112          1    129.90  3  1  2   \n",
       "1  0000b849f77a49e4a4ce2b2a4ca5be3f      115          1     18.90  3  1  1   \n",
       "2  0000f46a3911fa3c0805444483337064      537          1     69.00  1  1  1   \n",
       "3  0000f6ccb0745a6a4b88665a16c9f078      321          1     25.99  1  1  1   \n",
       "4  0004aac84e0df4da2b147fca70cf8255      288          1    180.00  1  1  2   \n",
       "\n",
       "   RFM  \n",
       "0  312  \n",
       "1  311  \n",
       "2  111  \n",
       "3  111  \n",
       "4  112  "
      ]
     },
     "execution_count": 24,
     "metadata": {},
     "output_type": "execute_result"
    }
   ],
   "source": [
    "rfm['RFM'] = rfm['r'].astype('str') + rfm['f'].astype('str') + rfm['m'].astype('str')\n",
    "rfm.head()"
   ]
  },
  {
   "cell_type": "markdown",
   "id": "ae92d91d",
   "metadata": {},
   "source": [
    "Для каждого кластера выведем средние значения"
   ]
  },
  {
   "cell_type": "code",
   "execution_count": 25,
   "id": "c1bd8fc4",
   "metadata": {},
   "outputs": [
    {
     "data": {
      "text/html": [
       "<div>\n",
       "<style scoped>\n",
       "    .dataframe tbody tr th:only-of-type {\n",
       "        vertical-align: middle;\n",
       "    }\n",
       "\n",
       "    .dataframe tbody tr th {\n",
       "        vertical-align: top;\n",
       "    }\n",
       "\n",
       "    .dataframe thead th {\n",
       "        text-align: right;\n",
       "    }\n",
       "</style>\n",
       "<table border=\"1\" class=\"dataframe\">\n",
       "  <thead>\n",
       "    <tr style=\"text-align: right;\">\n",
       "      <th></th>\n",
       "      <th>RFM</th>\n",
       "      <th>recency</th>\n",
       "      <th>frequency</th>\n",
       "      <th>monetary</th>\n",
       "    </tr>\n",
       "  </thead>\n",
       "  <tbody>\n",
       "    <tr>\n",
       "      <th>0</th>\n",
       "      <td>111</td>\n",
       "      <td>415.84</td>\n",
       "      <td>1.0</td>\n",
       "      <td>53.17</td>\n",
       "    </tr>\n",
       "    <tr>\n",
       "      <th>1</th>\n",
       "      <td>112</td>\n",
       "      <td>416.59</td>\n",
       "      <td>1.0</td>\n",
       "      <td>227.83</td>\n",
       "    </tr>\n",
       "    <tr>\n",
       "      <th>2</th>\n",
       "      <td>113</td>\n",
       "      <td>413.14</td>\n",
       "      <td>1.0</td>\n",
       "      <td>1603.14</td>\n",
       "    </tr>\n",
       "    <tr>\n",
       "      <th>3</th>\n",
       "      <td>121</td>\n",
       "      <td>417.97</td>\n",
       "      <td>2.0</td>\n",
       "      <td>62.09</td>\n",
       "    </tr>\n",
       "    <tr>\n",
       "      <th>4</th>\n",
       "      <td>122</td>\n",
       "      <td>408.94</td>\n",
       "      <td>2.0</td>\n",
       "      <td>232.93</td>\n",
       "    </tr>\n",
       "  </tbody>\n",
       "</table>\n",
       "</div>"
      ],
      "text/plain": [
       "   RFM  recency  frequency  monetary\n",
       "0  111   415.84        1.0     53.17\n",
       "1  112   416.59        1.0    227.83\n",
       "2  113   413.14        1.0   1603.14\n",
       "3  121   417.97        2.0     62.09\n",
       "4  122   408.94        2.0    232.93"
      ]
     },
     "execution_count": 25,
     "metadata": {},
     "output_type": "execute_result"
    }
   ],
   "source": [
    "rfm_groupped = rfm\\\n",
    "    .groupby('RFM', as_index=False)\\\n",
    "    .agg({'recency' : 'mean', 'frequency' : 'mean', 'monetary' : 'mean'}).round(2)\n",
    "rfm_groupped.head()"
   ]
  },
  {
   "cell_type": "code",
   "execution_count": 26,
   "id": "89759612",
   "metadata": {},
   "outputs": [
    {
     "data": {
      "text/plain": [
       "27"
      ]
     },
     "execution_count": 26,
     "metadata": {},
     "output_type": "execute_result"
    }
   ],
   "source": [
    "rfm_groupped.value_counts().count()"
   ]
  },
  {
   "cell_type": "code",
   "execution_count": 27,
   "id": "37344937",
   "metadata": {},
   "outputs": [
    {
     "data": {
      "text/html": [
       "<div>\n",
       "<style scoped>\n",
       "    .dataframe tbody tr th:only-of-type {\n",
       "        vertical-align: middle;\n",
       "    }\n",
       "\n",
       "    .dataframe tbody tr th {\n",
       "        vertical-align: top;\n",
       "    }\n",
       "\n",
       "    .dataframe thead th {\n",
       "        text-align: right;\n",
       "    }\n",
       "</style>\n",
       "<table border=\"1\" class=\"dataframe\">\n",
       "  <thead>\n",
       "    <tr style=\"text-align: right;\">\n",
       "      <th></th>\n",
       "      <th>RFM</th>\n",
       "      <th>num_of_customers</th>\n",
       "    </tr>\n",
       "  </thead>\n",
       "  <tbody>\n",
       "    <tr>\n",
       "      <th>0</th>\n",
       "      <td>111</td>\n",
       "      <td>17301</td>\n",
       "    </tr>\n",
       "    <tr>\n",
       "      <th>1</th>\n",
       "      <td>112</td>\n",
       "      <td>10261</td>\n",
       "    </tr>\n",
       "    <tr>\n",
       "      <th>2</th>\n",
       "      <td>113</td>\n",
       "      <td>285</td>\n",
       "    </tr>\n",
       "    <tr>\n",
       "      <th>3</th>\n",
       "      <td>121</td>\n",
       "      <td>1169</td>\n",
       "    </tr>\n",
       "    <tr>\n",
       "      <th>4</th>\n",
       "      <td>122</td>\n",
       "      <td>1758</td>\n",
       "    </tr>\n",
       "  </tbody>\n",
       "</table>\n",
       "</div>"
      ],
      "text/plain": [
       "   RFM  num_of_customers\n",
       "0  111             17301\n",
       "1  112             10261\n",
       "2  113               285\n",
       "3  121              1169\n",
       "4  122              1758"
      ]
     },
     "execution_count": 27,
     "metadata": {},
     "output_type": "execute_result"
    }
   ],
   "source": [
    "rfm_num_customers = rfm\\\n",
    "    .groupby('RFM', as_index=False)\\\n",
    "    .agg(num_of_customers=('customer_id', 'count'))\n",
    "rfm_num_customers.head()"
   ]
  },
  {
   "cell_type": "code",
   "execution_count": 37,
   "id": "096011d1",
   "metadata": {},
   "outputs": [
    {
     "data": {
      "image/png": "[encoded data removed]",
      "text/html": [
       "<div style=\"vertical-align: middle;\"><strong>seaborn_cubehelix</strong> </div><div class=\"cmap\"><img alt=\"seaborn_cubehelix colormap\" title=\"seaborn_cubehelix\" style=\"border: 1px solid #555;\" src=\"data:image/png;base64,iVBORw0KGgoAAAANSUhEUgAAAgAAAABACAYAAABsv8+/AAAAIHRFWHRUaXRsZQBzZWFib3JuX2N1YmVoZWxpeCBjb2xvcm1hcCHoIPcAAAAmdEVYdERlc2NyaXB0aW9uAHNlYWJvcm5fY3ViZWhlbGl4IGNvbG9ybWFwGlvH/wAAADB0RVh0QXV0aG9yAE1hdHBsb3RsaWIgdjMuNi4yLCBodHRwczovL21hdHBsb3RsaWIub3Jncc5VXwAAADJ0RVh0U29mdHdhcmUATWF0cGxvdGxpYiB2My42LjIsIGh0dHBzOi8vbWF0cGxvdGxpYi5vcmdfaMp4AAABy0lEQVR4nO3WQW7bMBRAQVLX6hlymt4fzaYIAluEKNu7N7NTQpE/tAO8+efr778xxhhzjt/m/+f58PMxj9N1y+fj8f3zfefDvqt5Luc79t67O8/qvZ/HxbmX7+0+b553Ne/2eat5j3n24/v7bH6eq+/Pep8Pz/P0tXzz/uZr9/d8L++d//jr2+dvzv/u/e3PtznP7Xs/X//q+av1x4f3vVr3/G/1mXs/Xp7vM/tc/13n++ye93PO2J3n3ue5mv9p3Thfd3Xu1T4AQIAAAIAgAQAAQQIAAIIEAAAECQAACBIAABAkAAAgSAAAQJAAAIAgAQAAQQIAAIIEAAAECQAACBIAABAkAAAgSAAAQJAAAIAgAQAAQQIAAIIEAAAECQAACBIAABAkAAAgSAAAQJAAAIAgAQAAQQIAAIIEAAAECQAACBIAABAkAAAgSAAAQJAAAIAgAQAAQQIAAIIEAAAECQAACBIAABAkAAAgSAAAQJAAAIAgAQAAQQIAAIIEAAAECQAACBIAABAkAAAgSAAAQJAAAIAgAQAAQQIAAIIEAAAECQAACBIAABAkAAAgSAAAQJAAAIAgAQAAQQIAAIIEAAAECQAACBIAABD0DTE7BAiKBAC/AAAAAElFTkSuQmCC\"></div><div style=\"vertical-align: middle; max-width: 514px; display: flex; justify-content: space-between;\"><div style=\"float: left;\"><div title=\"#3b4d73ff\" style=\"display: inline-block; width: 1em; height: 1em; margin: 0; vertical-align: middle; border: 1px solid #555; background-color: #3b4d73ff;\"></div> under</div><div style=\"margin: 0 auto; display: inline-block;\">bad <div title=\"#00000000\" style=\"display: inline-block; width: 1em; height: 1em; margin: 0; vertical-align: middle; border: 1px solid #555; background-color: #00000000;\"></div></div><div style=\"float: right;\">over <div title=\"#c4e1e5ff\" style=\"display: inline-block; width: 1em; height: 1em; margin: 0; vertical-align: middle; border: 1px solid #555; background-color: #c4e1e5ff;\"></div></div>"
      ],
      "text/plain": [
       "<matplotlib.colors.ListedColormap at 0x7f7688470d60>"
      ]
     },
     "execution_count": 37,
     "metadata": {},
     "output_type": "execute_result"
    }
   ],
   "source": [
    "sns.color_palette(\"ch:r=-.2,d=.3_r\", as_cmap=True)"
   ]
  },
  {
   "cell_type": "code",
   "execution_count": 38,
   "id": "41c416e3",
   "metadata": {},
   "outputs": [
    {
     "data": {
      "image/png": "[encoded data removed]",
      "text/plain": [
       "<Figure size 1400x600 with 1 Axes>"
      ]
     },
     "metadata": {},
     "output_type": "display_data"
    }
   ],
   "source": [
    "fig, ax = plt.subplots(figsize=(14,6))\n",
    "sns.barplot(data=rfm_num_customers, x='RFM', y='num_of_customers', palette=\"ch:r=-.2,d=.3_r\")\n",
    "ax.set_title('RFM')\n",
    "sns.despine()"
   ]
  },
  {
   "cell_type": "code",
   "execution_count": null,
   "id": "3926796f",
   "metadata": {},
   "outputs": [],
   "source": []
  },
  {
   "cell_type": "code",
   "execution_count": null,
   "id": "1cc0a131",
   "metadata": {},
   "outputs": [],
   "source": []
  }
 ],
 "metadata": {
  "kernelspec": {
   "display_name": "Python 3 (ipykernel)",
   "language": "python",
   "name": "python3"
  },
  "language_info": {
   "codemirror_mode": {
    "name": "ipython",
    "version": 3
   },
   "file_extension": ".py",
   "mimetype": "text/x-python",
   "name": "python",
   "nbconvert_exporter": "python",
   "pygments_lexer": "ipython3",
   "version": "3.8.10"
  }
 },
 "nbformat": 4,
 "nbformat_minor": 5
}
